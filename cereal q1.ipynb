{
 "cells": [
  {
   "cell_type": "raw",
   "id": "02a9b674",
   "metadata": {},
   "source": [
    "import os\n",
    "import csv\n",
    "cereal_csv = os.path.join(\"..\", \"cereal.csv\")\n",
    "\n",
    "with open(\"cereal.csv\", newline=\"\") as csvfile:\n",
    "    csvreader = csv.reader(csvfile, delimiter=\",\")\n",
    "\n",
    "    csv_header = next(csvfile)\n",
    "\n",
    "    for row in csvreader :\n",
    "        if float(row[7]) >= 5:\n",
    "            print(row[0])"
   ]
  },
  {
   "cell_type": "code",
   "execution_count": 33,
   "id": "e21316d2",
   "metadata": {},
   "outputs": [
    {
     "name": "stdout",
     "output_type": "stream",
     "text": [
      "   name age\n",
      "a  jack  30\n",
      "b  mona  24\n"
     ]
    }
   ],
   "source": [
    "import os\n",
    "import pandas as pd\n",
    "students=[('jack','30'),('mona','24')]\n",
    "df = pd.DataFrame( students,columns=['name','age'],index=['a','b'])\n",
    "print(df)"
   ]
  },
  {
   "cell_type": "code",
   "execution_count": null,
   "id": "acd70482",
   "metadata": {},
   "outputs": [],
   "source": []
  }
 ],
 "metadata": {
  "kernelspec": {
   "display_name": "Python 3 (ipykernel)",
   "language": "python",
   "name": "python3"
  },
  "language_info": {
   "codemirror_mode": {
    "name": "ipython",
    "version": 3
   },
   "file_extension": ".py",
   "mimetype": "text/x-python",
   "name": "python",
   "nbconvert_exporter": "python",
   "pygments_lexer": "ipython3",
   "version": "3.9.7"
  }
 },
 "nbformat": 4,
 "nbformat_minor": 5
}
